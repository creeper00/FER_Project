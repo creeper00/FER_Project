{
  "cells": [
    {
      "cell_type": "code",
      "execution_count": null,
      "metadata": {
        "id": "d3sWoc1nOS37"
      },
      "outputs": [],
      "source": [
        "# load test datasets\n",
        "!cp /content/drive/Shareddrives/RAI/tests/datasets.zip /content\n",
        "!unzip /content/datasets.zip -d /content"
      ]
    },
    {
      "cell_type": "code",
      "execution_count": null,
      "metadata": {
        "colab": {
          "base_uri": "https://localhost:8080/"
        },
        "id": "M-hAOb7uUWoO",
        "outputId": "47614f0c-efc0-452a-883a-b069ebdbfc08"
      },
      "outputs": [
        {
          "output_type": "stream",
          "name": "stdout",
          "text": [
            "Mounted at /content/drive\n"
          ]
        }
      ],
      "source": [
        "from google.colab import drive\n",
        "drive.mount('/content/drive')"
      ]
    },
    {
      "cell_type": "markdown",
      "metadata": {
        "id": "iJatG0TIJ9AW"
      },
      "source": [
        "# 1. DeepFace\n"
      ]
    },
    {
      "cell_type": "code",
      "execution_count": null,
      "metadata": {
        "id": "exolYpoXKGnV"
      },
      "outputs": [],
      "source": [
        "# pre install\n",
        "!pip install deepface"
      ]
    },
    {
      "cell_type": "code",
      "execution_count": null,
      "metadata": {
        "colab": {
          "base_uri": "https://localhost:8080/"
        },
        "id": "Wa6YDjacKLHp",
        "outputId": "cefe883f-91d8-49da-8325-ea2c5b2cec86"
      },
      "outputs": [
        {
          "name": "stdout",
          "output_type": "stream",
          "text": [
            "facial_expression_model_weights.h5 will be downloaded...\n"
          ]
        },
        {
          "name": "stderr",
          "output_type": "stream",
          "text": [
            "Downloading...\n",
            "From: https://github.com/serengil/deepface_models/releases/download/v1.0/facial_expression_model_weights.h5\n",
            "To: /root/.deepface/weights/facial_expression_model_weights.h5\n",
            "100%|██████████| 5.98M/5.98M [00:00<00:00, 91.5MB/s]\n"
          ]
        },
        {
          "name": "stdout",
          "output_type": "stream",
          "text": [
            "neutral\n",
            "happy\n",
            "sad\n",
            "surprise\n",
            "anger\n",
            "fear\n",
            "28.953771289537713\n"
          ]
        }
      ],
      "source": [
        "import cv2\n",
        "from deepface import DeepFace\n",
        "import numpy as np\n",
        "from os import walk\n",
        "\n",
        "emo = ['neutral', 'happy', 'sad', 'surprise', 'anger', 'fear']\n",
        "total=0\n",
        "correct=0\n",
        "for i in emo:\n",
        "    filenames = next(walk(f'/content/datasets/{i}/'), (None, None, []))[2]\n",
        "    for j in filenames:\n",
        "        try:\n",
        "            path = f\"/content/datasets/{i}/{j}\"\n",
        "            img_array = np.fromfile(path, np.uint8)\n",
        "            img = cv2.imdecode(img_array, cv2.IMREAD_COLOR)\n",
        "            label = DeepFace.analyze(img,actions=['emotion'])['dominant_emotion']\n",
        "            if label==i : correct+=1\n",
        "            total+=1\n",
        "        except:\n",
        "            continue\n",
        "    print(i)\n",
        "\n",
        "print((correct*100)/total)"
      ]
    },
    {
      "cell_type": "markdown",
      "metadata": {
        "id": "QILsWQbCKTUz"
      },
      "source": [
        "# 2. DAN"
      ]
    },
    {
      "cell_type": "code",
      "execution_count": null,
      "metadata": {
        "id": "nkrzrAGqTPvN"
      },
      "outputs": [],
      "source": [
        "import sys\n",
        "sys.path.append('/content/drive/Shareddrives/RAI/models/DAN/networks/')\n",
        "from dan import DAN\n",
        "\n",
        "import os\n",
        "import argparse\n",
        "from os import walk\n",
        "\n",
        "from PIL import Image\n",
        "\n",
        "import torch\n",
        "from torchvision import transforms"
      ]
    },
    {
      "cell_type": "code",
      "execution_count": null,
      "metadata": {
        "id": "2JU2xPMoKXvc"
      },
      "outputs": [],
      "source": [
        "class Model():\n",
        "    def __init__(self):\n",
        "        self.device = torch.device(\"cuda:0\" if torch.cuda.is_available() else \"cpu\")\n",
        "        self.data_transforms = transforms.Compose([\n",
        "                                    transforms.Resize((224, 224)),\n",
        "                                    transforms.ToTensor(),\n",
        "                                    transforms.Normalize(mean=[0.485, 0.456, 0.406],\n",
        "                                    std=[0.229, 0.224, 0.225])\n",
        "                                ])\n",
        "        self.labels = ['neutral', 'happy', 'sad', 'surprise', 'fear', 'disgust', 'anger']\n",
        "\n",
        "        self.model = DAN(num_head=4, num_class=7, pretrained=False)\n",
        "        checkpoint = torch.load('/content/drive/Shareddrives/RAI/models/DAN/affecnet7_epoch6_acc0.6569.pth',\n",
        "            map_location=self.device)\n",
        "        self.model.load_state_dict(checkpoint['model_state_dict'],strict=True)\n",
        "        self.model.to(self.device)\n",
        "        self.model.eval()\n",
        "    \n",
        "    def fit(self, path):\n",
        "        img = Image.open(path).convert('RGB')\n",
        "        img = self.data_transforms(img)\n",
        "        img = img.view(1,3,224,224)\n",
        "        img = img.to(self.device)\n",
        "\n",
        "        with torch.set_grad_enabled(False):\n",
        "            out, _, _ = self.model(img)\n",
        "            _, pred = torch.max(out,1)\n",
        "            index = int(pred)\n",
        "            label = self.labels[index]\n",
        "\n",
        "            return index, label"
      ]
    },
    {
      "cell_type": "code",
      "execution_count": null,
      "metadata": {
        "colab": {
          "base_uri": "https://localhost:8080/"
        },
        "id": "w_e_WgGIWmdo",
        "outputId": "c7fec64f-285d-47e0-d1a5-f0cfd579bb17"
      },
      "outputs": [
        {
          "name": "stdout",
          "output_type": "stream",
          "text": [
            "19.53757225433526\n"
          ]
        }
      ],
      "source": [
        "model = Model()\n",
        "\n",
        "emo = ['neutral', 'happy', 'sad', 'surprise', 'anger', 'fear']\n",
        "total=0\n",
        "correct=0\n",
        "for i in emo:\n",
        "  filenames = next(walk(f'/content/datasets/{i}/'), (None, None, []))[2]\n",
        "  for j in filenames:\n",
        "      image = f\"./datasets/{i}/{j}\"\n",
        "\n",
        "      index, label = model.fit(image)\n",
        "      if label==i : correct+=1\n",
        "      total+=1\n",
        "\n",
        "print((correct*100)/total)"
      ]
    },
    {
      "cell_type": "markdown",
      "metadata": {
        "id": "t5BX9pq6OK8G"
      },
      "source": [
        "#3. CNN"
      ]
    },
    {
      "cell_type": "code",
      "execution_count": null,
      "metadata": {
        "id": "9xqRnd19OOsW"
      },
      "outputs": [],
      "source": [
        "!pip install fer"
      ]
    },
    {
      "cell_type": "code",
      "execution_count": null,
      "metadata": {
        "id": "HbfpbhenPcsr"
      },
      "outputs": [],
      "source": [
        "from fer import FER\n",
        "import cv2\n",
        "from os import walk\n",
        "import numpy as np"
      ]
    },
    {
      "cell_type": "code",
      "execution_count": null,
      "metadata": {
        "id": "1soE4rjGPYxH"
      },
      "outputs": [],
      "source": [
        "emo = ['angry', 'happy','surprise','sad', 'neutral']\n",
        "\n",
        "detector = FER(emotion_model=\"/content/drive/Shareddrives/RAI/model.h5\")\n",
        "for i in emo:\n",
        "    label_dict = {'neutral': 0, 'happy': 0, 'sad': 0, 'surprise': 0, 'angry': 0, 'fear': 0, 'disgust': 0}\n",
        "    second_label_dict = {'neutral': 0, 'happy': 0, 'sad': 0, 'surprise': 0, 'angry': 0, 'fear': 0, 'disgust': 0}\n",
        "    total=0\n",
        "    correct=0\n",
        "    filenames = next(walk(f'./datasets/{i}/'), (None, None, []))[2]\n",
        "    for k in range(100):\n",
        "        j=filenames[k]\n",
        "        path = f\"./datasets/{i}/{j}\"\n",
        "        img_array = np.fromfile(path, np.uint8)\n",
        "        img = cv2.imdecode(img_array, cv2.IMREAD_COLOR)\n",
        "        emotions = detector.detect_emotions(img=img)\n",
        "        if len(emotions):\n",
        "            emotions = emotions[0][\"emotions\"]\n",
        "            sorted_emotions = sorted(emotions.items(), key = lambda item: item[1], reverse=True)\n",
        "            label = sorted_emotions[0][0]\n",
        "            if sorted_emotions[0][0] in label_dict.keys():\n",
        "                label_dict[sorted_emotions[0][0]] += 1\n",
        "            if sorted_emotions[1][0] in second_label_dict.keys():\n",
        "                second_label_dict[sorted_emotions[1][0]] += 1\n",
        "        #label, score = detector.top_emotion(img)\n",
        "            if label==i : correct+=1\n",
        "        total+=1\n",
        "    if total is not 0:\n",
        "        print(f\"{i}: {(correct*100)/total}\")\n",
        "    print(label_dict)\n",
        "    print(second_label_dict)"
      ]
    },
    {
      "cell_type": "code",
      "source": [
        "import matplotlib.pyplot as plt\n",
        "import numpy as np\n",
        "\n",
        "x = np.arange(3)\n",
        "emos = ['angry/sad', 'happy', 'surprise']\n",
        "values = [92, 75, 62]\n",
        "\n",
        "plt.bar(x, values, color = [\"lightpink\", \"dodgerblue\", \"paleturquoise\"])\n",
        "plt.xticks(x, emos)\n",
        "plt.title(\"Emotion Classification Evaluation\")\n",
        "plt.ylabel('Accuracy (label match rate)')\n",
        "plt.grid(alpha=.1, linestyle='--')"
      ],
      "metadata": {
        "colab": {
          "base_uri": "https://localhost:8080/",
          "height": 281
        },
        "id": "ZQk-JY7-cF27",
        "outputId": "ff68a549-b2eb-4225-c29f-e639455fd9d6"
      },
      "execution_count": null,
      "outputs": [
        {
          "output_type": "display_data",
          "data": {
            "text/plain": [
              "<Figure size 432x288 with 1 Axes>"
            ],
            "image/png": "[encoded data removed]"
          },
          "metadata": {
            "needs_background": "light"
          }
        }
      ]
    },
    {
      "cell_type": "code",
      "execution_count": null,
      "metadata": {
        "colab": {
          "base_uri": "https://localhost:8080/"
        },
        "id": "FGDOvRRBFS3I",
        "outputId": "4ac49cd0-f328-4c96-baad-a2ea303ce800"
      },
      "outputs": [
        {
          "name": "stdout",
          "output_type": "stream",
          "text": [
            "{'neutral': 0, 'happy': 0, 'sad': 0, 'surprise': 0, 'angry': 0, 'fear': 0}\n"
          ]
        }
      ],
      "source": [
        "emo = ['neutral', 'happy', 'sad', 'surprise', 'anger', 'fear']\n",
        "detector = FER()\n",
        "\n",
        "second_label_dict = {'neutral': 0, 'happy': 0, 'sad': 0, 'surprise': 0, 'angry': 0, 'fear': 0}\n",
        "total=0\n",
        "correct=0\n",
        "i = 'anger'\n",
        "filenames = next(walk(f'./datasets/{i}/'), (None, None, []))[2]\n",
        "for j in filenames:\n",
        "    path = f\"./datasets/{i}/{j}\"\n",
        "    img_array = np.fromfile(path, np.uint8)\n",
        "    img = cv2.imdecode(img_array, cv2.IMREAD_COLOR)\n",
        "    emotions = detector.detect_emotions(img=img)\n",
        "    if len(emotions):\n",
        "        emotions = emotions[0][\"emotions\"]\n",
        "        sorted_emotions = sorted(emotions.items(), key = lambda item: item[1], reverse=True)\n",
        "        label = sorted_emotions[0][0]\n",
        "        if sorted_emotions[1][0] in second_label_dict.keys():\n",
        "                second_label_dict[sorted_emotions[1][0]] += 1\n",
        "        #label, score = detector.top_emotion(img)\n",
        "        if label=='angry' : correct+=1\n",
        "    total+=1\n",
        "if total is not 0:\n",
        "    print(f\"{i}: {(correct*100)/total}\")\n",
        "print(second_label_dict)"
      ]
    },
    {
      "cell_type": "markdown",
      "metadata": {
        "id": "Db48JE7Zczs8"
      },
      "source": [
        "#4. FineTuning CNN"
      ]
    },
    {
      "cell_type": "code",
      "execution_count": null,
      "metadata": {
        "id": "GxJoQSyBdH4l"
      },
      "outputs": [],
      "source": [
        "!pip install tensorflow\n",
        "!pip install fer"
      ]
    },
    {
      "cell_type": "code",
      "execution_count": null,
      "metadata": {
        "id": "RFR1jyPPcuHs"
      },
      "outputs": [],
      "source": [
        "import pkg_resources\n",
        "import cv2\n",
        "import numpy as np\n",
        "from os import walk\n",
        "from fer import FER\n",
        "from tensorflow.keras.models import Model, load_model\n",
        "from tensorflow.keras.optimizers import SGD\n",
        "from tensorflow.keras import layers\n",
        "import tensorflow as tf\n",
        "from PIL import Image\n",
        "from tensorflow import keras"
      ]
    },
    {
      "cell_type": "code",
      "execution_count": null,
      "metadata": {
        "id": "NBB2fob9dazH"
      },
      "outputs": [],
      "source": [
        "model_path =   \"/content/drive/Shareddrives/RAI/model.h5\"\n",
        "base_model = load_model(model_path, compile = False)"
      ]
    },
    {
      "cell_type": "code",
      "execution_count": null,
      "metadata": {
        "id": "KTXEUvS5Gz9V"
      },
      "outputs": [],
      "source": [
        "base_model.trainable = True"
      ]
    },
    {
      "cell_type": "code",
      "execution_count": null,
      "metadata": {
        "id": "BIpydPGUwMNj"
      },
      "outputs": [],
      "source": [
        "#If you want to see model layers\n",
        "base_model.summary()"
      ]
    },
    {
      "cell_type": "code",
      "execution_count": null,
      "metadata": {
        "id": "4qgoX5n5NYci"
      },
      "outputs": [],
      "source": [
        "# 기존 모델에 argmax layer가 추가된 새로운 모델\n",
        "inputs = tf.keras.Input(shape=(64, 64, 1))\n",
        "x = base_model(inputs, training = False)\n",
        "outputs = tf.keras.layers.Lambda(lambda x: tf.expand_dims(tf.keras.backend.cast(tf.math.argmax(x, axis=1), dtype='float32'),1))(x)\n",
        "new_model = tf.keras.Model(inputs, outputs)\n",
        "\n",
        "base_model.trainable = True\n",
        "\n",
        "new_model.compile(optimizer=keras.optimizers.Adam(1e-10),  # Very low learning rate\n",
        "               loss=tf.keras.losses.SparseCategoricalCrossentropy(from_logits=True),\n",
        "              metrics=['accuracy'])\n",
        "new_model.summary()"
      ]
    },
    {
      "cell_type": "code",
      "execution_count": null,
      "metadata": {
        "id": "eHXKxuiQOeMa"
      },
      "outputs": [],
      "source": [
        "# functions for preprocessing (image -> tensor)\n",
        "def __preprocess_input(x):\n",
        "  x = x.astype(\"float32\")\n",
        "  x = x / 255.0\n",
        "  x = x - 0.5\n",
        "  x = x * 2.0\n",
        "  return x\n",
        "\n",
        "def __check_image(path):\n",
        "  img_array = np.fromfile(path, np.uint8)\n",
        "  img = cv2.imdecode(img_array, cv2.IMREAD_COLOR)\n",
        "  is_exact_image = is_base64_img = is_url_img = False\n",
        "  if type(img).__module__ == np.__name__:\n",
        "      is_exact_image = True\n",
        "  elif img is None:\n",
        "      raise InvalidImage(\"Image not valid.\")\n",
        "  elif len(img) > 11 and img[0:11] == \"data:image/\":\n",
        "      is_base64_img = True\n",
        "  elif len(img) > 11 and img.startswith(\"http\"):\n",
        "      is_url_img = True\n",
        "\n",
        "  if is_base64_img:\n",
        "      img = loadBase64Img(img)\n",
        "  elif is_url_img:\n",
        "      img = pil_to_bgr(Image.open(requests.get(img, stream=True).raw))\n",
        "  elif not is_exact_image:  # image path passed as input\n",
        "      if not os.path.isfile(img):\n",
        "          raise ValueError(f\"Confirm that {img} exists\")\n",
        "      img = cv2.imread(img)\n",
        "  return img\n",
        "\n",
        "def __gray_img_to_face(face_coordinates, gray_img):\n",
        "  x, y, width, height = face_coordinates\n",
        "  x_off, y_off = (10, 10)\n",
        "  x1 = x - x_off\n",
        "  x2 = x + width + x_off\n",
        "  y1 = y - y_off\n",
        "  y2 = y + height + y_off\n",
        "\n",
        "  x1 += PADDING\n",
        "  y1 += PADDING\n",
        "  x2 += PADDING\n",
        "  y2 += PADDING\n",
        "  x1 = np.clip(x1, a_min=0, a_max = None)\n",
        "\n",
        "  gray_face = gray_img[max(0, y1) : y2, max(0, x1) : x2]\n",
        "  return gray_face\n",
        "\n",
        "\n",
        "def processImage(path, detector):\n",
        "  gray_faces=[]\n",
        "  img = __check_image(path)\n",
        "  emotion_labels = FER._get_labels()\n",
        "  face_rectangles = detector.find_faces(img, bgr=True)\n",
        "  gray_img = cv2.cvtColor(img, cv2.COLOR_BGR2GRAY)\n",
        "  gray_img = FER.pad(gray_img)\n",
        "  for face_coordinates in face_rectangles:\n",
        "    face_coordinates = FER.tosquare(face_coordinates)\n",
        "    gray_face = __gray_img_to_face(face_coordinates, gray_img)\n",
        "    gray_face = cv2.resize(gray_face, (64, 64))\n",
        "    gray_face = __preprocess_input(gray_face)\n",
        "    gray_faces.append(np.array(gray_face))\n",
        "  return gray_faces"
      ]
    },
    {
      "cell_type": "code",
      "execution_count": null,
      "metadata": {
        "id": "tX40k7YdfIf_"
      },
      "outputs": [],
      "source": [
        "#preprocessing image\n",
        "PADDING = 40\n",
        "emo={0: \"angry\",\n",
        "    3: \"happy\",\n",
        "    4: \"sad\",\n",
        "    5: \"surprise\",\n",
        "    6: \"neutral\"}\n",
        "detector = FER()\n",
        "faces = {}\n",
        "for i in emo:\n",
        "    total=0\n",
        "    correct=0\n",
        "    face = []\n",
        "    filenames = next(walk(f'./datasets/{emo[i]}/'), (None, None, []))[2]\n",
        "    print(len(filenames))\n",
        "    for n in range(100):      \n",
        "        j = filenames[n]\n",
        "        gray_faces = []\n",
        "        path = f\"./datasets/{emo[i]}/{j}\"\n",
        "        img = __check_image(path)\n",
        "        emotion_labels = FER._get_labels()\n",
        "        face_rectangles = detector.find_faces(img, bgr=True)\n",
        "        gray_img = cv2.cvtColor(img, cv2.COLOR_BGR2GRAY)\n",
        "        gray_img = FER.pad(gray_img)\n",
        "        for face_coordinates in face_rectangles:\n",
        "          face_coordinates = FER.tosquare(face_coordinates)\n",
        "          gray_face = __gray_img_to_face(face_coordinates, gray_img)\n",
        "          gray_face = cv2.resize(gray_face, (64, 64))\n",
        "          gray_face = __preprocess_input(gray_face)\n",
        "\n",
        "        gray_faces.append(gray_face)\n",
        "        face.append(np.array(gray_faces))\n",
        "        total += 1\n",
        "        if total%100==0 : print(total)\n",
        "    faces[i] = face"
      ]
    },
    {
      "cell_type": "code",
      "execution_count": null,
      "metadata": {
        "id": "VXVx4_P5hcDg"
      },
      "outputs": [],
      "source": [
        "# prepare datasets\n",
        "renamed_faces = {'input_1': [], 'label': []}\n",
        "for emo, images in faces.items():\n",
        "    renamed_faces['input_1'].append(images)\n",
        "    renamed_faces['label'].append([emo]*len(images))\n",
        "features = tf.constant(renamed_faces['input_1'])\n",
        "print(features.shape)\n",
        "features=tf.reshape(features, [500,1,64,64,1])\n",
        "labels = tf.constant(renamed_faces['label'])\n",
        "labels=tf.reshape(labels, [500,1])\n",
        "features_dataset = tf.data.Dataset.from_tensor_slices(features)\n",
        "labels_dataset = tf.data.Dataset.from_tensor_slices(labels)\n",
        "dataset = tf.data.Dataset.zip((features_dataset, labels_dataset))"
      ]
    },
    {
      "cell_type": "code",
      "execution_count": null,
      "metadata": {
        "id": "NCk8Fgx-UJqB"
      },
      "outputs": [],
      "source": [
        "!cp drive/Shareddrives/RAI/training.zip training.zip\n",
        "!unzip training.zip"
      ]
    },
    {
      "cell_type": "code",
      "execution_count": null,
      "metadata": {
        "id": "OdUZIzDHvfp8"
      },
      "outputs": [],
      "source": [
        "import pickle\n",
        "with open('training' + '/element_spec', 'rb') as in_:\n",
        "    es = pickle.load(in_)\n",
        "\n",
        "df = tf.data.experimental.load(\n",
        "    'training', es, compression='GZIP'\n",
        ")"
      ]
    },
    {
      "cell_type": "code",
      "execution_count": null,
      "metadata": {
        "id": "y8d961tVvpNi"
      },
      "outputs": [],
      "source": [
        "#unzip and prepare x,y for model input\n",
        "i0= df.map(lambda x,y: x)\n",
        "t0 = df.map(lambda x,y: y)\n",
        "t1 = list(t0)\n",
        "i1 = list(i0)\n",
        "tsi=tf.convert_to_tensor(i1[0:6000]+i1[24000:30000])\n",
        "tsi=tf.reshape(tsi, [12000,64,64,1])\n",
        "tst=tf.convert_to_tensor(t1[0:12000])\n",
        "tst=tf.reshape(tst, [12000,1])"
      ]
    },
    {
      "cell_type": "code",
      "execution_count": null,
      "metadata": {
        "id": "oTa5aZ7rodXp"
      },
      "outputs": [],
      "source": [
        "base_model.compile(optimizer=keras.optimizers.Adam(1e-6),  # Very low learning rate\n",
        "               loss=tf.keras.losses.SparseCategoricalCrossentropy(),\n",
        "              metrics=['accuracy'])"
      ]
    },
    {
      "cell_type": "code",
      "execution_count": null,
      "metadata": {
        "id": "TyaAL4C93Mq7",
        "colab": {
          "base_uri": "https://localhost:8080/"
        },
        "outputId": "0932e838-f004-4816-cc33-8af15d987f1d"
      },
      "outputs": [
        {
          "output_type": "stream",
          "name": "stdout",
          "text": [
            "375/375 [==============================] - 160s 424ms/step - loss: 0.2429 - accuracy: 0.9342\n"
          ]
        },
        {
          "output_type": "execute_result",
          "data": {
            "text/plain": [
              "<keras.callbacks.History at 0x7fe9e76ce610>"
            ]
          },
          "metadata": {},
          "execution_count": 20
        }
      ],
      "source": [
        "#Finetune fer by model.fit\n",
        "from keras.callbacks import ReduceLROnPlateau, CSVLogger, ModelCheckpoint, EarlyStopping\n",
        "early_stop = EarlyStopping('val_loss', patience=50)\n",
        "model_checkpoint = ModelCheckpoint('fer'+'.{val_accuracy:.2f}.hdf5', 'val_loss', verbose=1,save_best_only=True)\n",
        "reduce_lr = ReduceLROnPlateau('val_loss', factor=0.1, patience=int(50/4), verbose=1)\n",
        "base_model.fit(x=tsi.numpy(), y=tst.numpy(), epochs=1)"
      ]
    },
    {
      "cell_type": "code",
      "source": [
        "base_model.save(\"new1.h5\")"
      ],
      "metadata": {
        "id": "jofgIzAdUARD"
      },
      "execution_count": null,
      "outputs": []
    },
    {
      "cell_type": "markdown",
      "metadata": {
        "id": "c2YQMpq4605J"
      },
      "source": [
        "#5. backend server\n"
      ]
    },
    {
      "cell_type": "code",
      "execution_count": null,
      "metadata": {
        "id": "doJdBFCG9NLQ"
      },
      "outputs": [],
      "source": [
        "!pip install fer\n",
        "!pip install pyngrok==4.1.1\n",
        "!pip install flask-ngrok\n",
        "!pip install pytube\n",
        "!pip install flask_cors\n",
        "!pip install flask-sock\n",
        "!ngrok authtoken 29I9G3TTcFRuHAYBVnjDeeePiZ5_4QCWkaBqkFfK627DSavxU"
      ]
    },
    {
      "cell_type": "code",
      "execution_count": null,
      "metadata": {
        "id": "fyPNlmyJK1aR"
      },
      "outputs": [],
      "source": [
        "from pytube import YouTube\n",
        "def downloadYouTube(videourl, path):\n",
        "\n",
        "    yt = YouTube(videourl)\n",
        "    yt = yt.streams.filter(progressive=True, file_extension='mp4').order_by('resolution').desc().first()\n",
        "    yt.download(output_path=path, filename='test.mp4')"
      ]
    },
    {
      "cell_type": "code",
      "execution_count": null,
      "metadata": {
        "id": "NQeIBDn0Iy6V"
      },
      "outputs": [],
      "source": [
        "#extend fer video object to handle websocket\n",
        "#ref: https://github.com/justinshenk/fer/blob/master/src/fer/classes.py\n",
        "\n",
        "import csv\n",
        "import logging\n",
        "import os\n",
        "import re\n",
        "from pathlib import Path\n",
        "from typing import Optional, Union\n",
        "from zipfile import ZipFile\n",
        "\n",
        "import base64\n",
        "import cv2\n",
        "import pandas as pd\n",
        "from fer import Video\n",
        "from tqdm import tqdm\n",
        "from tqdm.contrib.logging import logging_redirect_tqdm\n",
        "\n",
        "class fVideo(Video):\n",
        "\n",
        "  def fanalyze(\n",
        "        self,\n",
        "        socket, #for websocket connection\n",
        "        detector,  # fer.FER instance\n",
        "        display: bool = False,\n",
        "        output: str = \"csv\",\n",
        "        frequency: Optional[int] = None,\n",
        "        max_results: int = None,\n",
        "        save_fps: Optional[int] = None,\n",
        "        video_id: Optional[str] = None,\n",
        "        save_frames: bool = True,\n",
        "        save_video: bool = True,\n",
        "        annotate_frames: bool = True,\n",
        "        zip_images: bool = True,\n",
        "        detection_box: Optional[dict] = None,\n",
        "    ) -> list:\n",
        "        \"\"\"Recognize facial expressions in video using `detector`.\n",
        "        Args:\n",
        "            detector (fer.FER): facial expression recognizer\n",
        "            display (bool): show images with cv2.imshow\n",
        "            output (str): csv or pandas\n",
        "            frequency (int): inference on every nth frame (higher number is faster)\n",
        "            max_results (int): number of frames to run inference before stopping\n",
        "            save_fps (bool): inference frequency = video fps // save_fps\n",
        "            video_id (str): filename for saving\n",
        "            save_frames (bool): saves frames to directory\n",
        "            save_video (bool): saves output video\n",
        "            annotate_frames (bool): add emotion labels\n",
        "            zip_images (bool): compress output\n",
        "            detection_box (dict): dict with bounding box for subimage (xmin, xmax, ymin, ymax)\n",
        "        Returns:\n",
        "            data (list): list of results\n",
        "        \"\"\"\n",
        "        frames_emotions = []\n",
        "        if frequency is None:\n",
        "            frequency = 1\n",
        "        else:\n",
        "            frequency = int(frequency)\n",
        "\n",
        "        self.display = display\n",
        "        self.save_frames = save_frames\n",
        "        self.save_video = save_video\n",
        "        self.annotate_frames = annotate_frames\n",
        "\n",
        "        results_nr = 0\n",
        "\n",
        "        # Open video\n",
        "        assert self.cap.open(self.filepath), \"Video capture not opening\"\n",
        "        self.__emotions = detector._get_labels().items()\n",
        "        self.cap.set(cv2.CAP_PROP_POS_FRAMES, 0)\n",
        "        pos_frames = self.cap.get(cv2.CAP_PROP_POS_FRAMES)\n",
        "        assert int(pos_frames) == 0, \"Video not at index 0\"\n",
        "\n",
        "        self.frameCount = 0\n",
        "        height, width = (\n",
        "            int(self.cap.get(cv2.CAP_PROP_FRAME_HEIGHT)),\n",
        "            int(self.cap.get(cv2.CAP_PROP_FRAME_WIDTH)),\n",
        "        )\n",
        "\n",
        "        fps = self.cap.get(cv2.CAP_PROP_FPS)\n",
        "        length = self.cap.get(cv2.CAP_PROP_FRAME_COUNT)\n",
        "        assert fps and length, \"File {} not loaded\".format(self.filepath)\n",
        "\n",
        "        if save_fps is not None:\n",
        "            frequency = fps // save_fps\n",
        "        print(\"{:.2f} fps, {} frames, {:.2f} seconds\".format(fps, length, length / fps))\n",
        "\n",
        "        if self.save_frames:\n",
        "            os.makedirs(self.outdir, exist_ok=True)\n",
        "        root, ext = os.path.splitext(os.path.basename(self.filepath))\n",
        "        outfile = os.path.join(self.outdir, f\"{root}_output{ext}\")\n",
        "\n",
        "        if save_video:\n",
        "            self.videowriter = self._save_video(outfile, fps, width, height)\n",
        "        total=int(length/fps)\n",
        "\n",
        "        while self.cap.isOpened():\n",
        "            ret, frame = self.cap.read()\n",
        "            if not ret:  # end of video\n",
        "                break\n",
        "\n",
        "            if frame is None:\n",
        "                continue\n",
        "\n",
        "            if int(self.frameCount % fps) != 0:\n",
        "                self.frameCount += 1\n",
        "                continue\n",
        "\n",
        "            if detection_box is not None:\n",
        "                frame = self._crop(frame, detection_box)\n",
        "\n",
        "            # Get faces and detect emotions; coordinates are for unpadded frame\n",
        "            try:\n",
        "                faces = detector.detect_emotions(frame)\n",
        "            except Exception as e:\n",
        "                print(\"error\")                \n",
        "\n",
        "            # Offset detection_box to include padding\n",
        "            if detection_box is not None:\n",
        "                faces = self._offset_detection_box(faces, detection_box)\n",
        "            img = os.path.join(self.outdir, (video_id or root) + str(self.frameCount) + \".jpg\")\n",
        "            self._increment_frames(frame, faces, video_id, root)\n",
        "            \n",
        "            if cv2.waitKey(1) & 0xFF == ord(\"q\"):\n",
        "                break\n",
        "\n",
        "            if faces:\n",
        "                for f in faces:\n",
        "                  with open(img, 'rb') as ff:\n",
        "                    img_string = base64.b64encode(ff.read()).decode(\"utf-8\")\n",
        "                  f['image'] =  img_string\n",
        "                  f['box'] = f['box'].tolist()\n",
        "                frames_emotions.append(faces)\n",
        "            else:\n",
        "                # in case, model can't find faces: send empty result with image \n",
        "                with open(img, 'rb') as ff:\n",
        "                  img_string = base64.b64encode(ff.read()).decode(\"utf-8\")\n",
        "                frames_emotions.append([{'box':[],\n",
        "                                         \"emotions\":{\n",
        "                                          'angry':0,\n",
        "                                         'disgust':0,\n",
        "                                         'fear':0,\n",
        "                                         'happy':0,\n",
        "                                         'sad':0,\n",
        "                                         'surprise':0,\n",
        "                                         'neutral':0},\n",
        "                                         'image': img_string\n",
        "                                        }])\n",
        "\n",
        "            socket.send(str(int(100*results_nr//total)))\n",
        "            results_nr += 1\n",
        "            if max_results and results_nr > max_results:\n",
        "                break\n",
        "        self._close_video(outfile, save_frames, zip_images)\n",
        "        return frames_emotions\n"
      ]
    },
    {
      "cell_type": "code",
      "execution_count": null,
      "metadata": {
        "colab": {
          "base_uri": "https://localhost:8080/",
          "height": 35
        },
        "id": "tgDHpSz8DFGU",
        "outputId": "650b7538-e01b-469d-f278-a5c8ea206143"
      },
      "outputs": [
        {
          "data": {
            "application/vnd.google.colaboratory.intrinsic+json": {
              "type": "string"
            },
            "text/plain": [
              "'https:**youtube.com*shorts*hLHFOeK8f3E?feature=share'"
            ]
          },
          "execution_count": 29,
          "metadata": {},
          "output_type": "execute_result"
        }
      ],
      "source": [
        "s = \"https://youtube.com/shorts/hLHFOeK8f3E?feature=share\"\n",
        "s=s.replace('/','*')\n",
        "s"
      ]
    },
    {
      "cell_type": "code",
      "execution_count": null,
      "metadata": {
        "colab": {
          "background_save": true
        },
        "id": "H5fB2vdE7REm"
      },
      "outputs": [],
      "source": [
        "# run backend server (colab)\n",
        "from flask_ngrok import run_with_ngrok\n",
        "from flask import Flask, jsonify, request\n",
        "import shutil \n",
        "from flask_sock import Sock\n",
        "import json\n",
        "\n",
        "app = Flask(__name__)\n",
        "run_with_ngrok(app)   #starts ngrok when the app is run\n",
        "sock = Sock(app)\n",
        "@app.route(\"/\")\n",
        "def home():\n",
        "    return \"<h1>Running Flask on Google Colab!</h1>\"\n",
        "#check connection ping-pong\n",
        "@app.route('/ping', methods=['GET'])\n",
        "def method():\n",
        "    if request.method == 'GET':\n",
        "      response = jsonify('pong!')\n",
        "      response.headers.add('Access-Control-Allow-Origin', '*')\n",
        "      return response\n",
        "#websocket connection\n",
        "@sock.route('/video')\n",
        "def handle(sock):\n",
        "    while True:\n",
        "        data = sock.receive()\n",
        "        downloadYouTube(data, '/content/')\n",
        "        video_filename = \"./test.mp4\"\n",
        "        video = fVideo(video_filename)\n",
        "        shutil.rmtree(\"/content/output\") \n",
        "        raw_data = video.fanalyze(socket=sock, detector=detector, save_frames=True, annotate_frames=True, zip_images=False, save_video=False  )\n",
        "        send_data = { \"data\": raw_data}\n",
        "        sock.send(send_data)\n",
        "        break\n",
        "\n",
        "app.run()"
      ]
    }
  ],
  "metadata": {
    "colab": {
      "collapsed_sections": [
        "iJatG0TIJ9AW",
        "QILsWQbCKTUz"
      ],
      "name": "test_fer_ipynb의_사본 (1).ipynb",
      "provenance": []
    },
    "kernelspec": {
      "display_name": "Python 3",
      "name": "python3"
    },
    "language_info": {
      "name": "python"
    }
  },
  "nbformat": 4,
  "nbformat_minor": 0
}