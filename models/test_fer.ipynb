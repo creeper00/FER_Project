{
  "nbformat": 4,
  "nbformat_minor": 0,
  "metadata": {
    "colab": {
      "name": "test_fer.ipynb",
      "provenance": [],
      "collapsed_sections": []
    },
    "kernelspec": {
      "name": "python3",
      "display_name": "Python 3"
    },
    "language_info": {
      "name": "python"
    }
  },
  "cells": [
    {
      "cell_type": "code",
      "source": [
        "# load test datasets\n",
        "!cp /content/drive/Shareddrives/RAI/tests/datasets.zip /content\n",
        "!unzip /content/datasets.zip -d /content"
      ],
      "metadata": {
        "id": "d3sWoc1nOS37"
      },
      "execution_count": null,
      "outputs": []
    },
    {
      "cell_type": "markdown",
      "source": [
        "# 1. DeepFace\n"
      ],
      "metadata": {
        "id": "iJatG0TIJ9AW"
      }
    },
    {
      "cell_type": "code",
      "source": [
        "# pre install\n",
        "!pip install deepface"
      ],
      "metadata": {
        "id": "exolYpoXKGnV"
      },
      "execution_count": null,
      "outputs": []
    },
    {
      "cell_type": "code",
      "source": [
        "import cv2\n",
        "from deepface import DeepFace\n",
        "import numpy as np\n",
        "from os import walk\n",
        "\n",
        "emo = ['neutral', 'happy', 'sad', 'surprise', 'anger', 'fear']\n",
        "total=0\n",
        "correct=0\n",
        "for i in emo:\n",
        "    filenames = next(walk(f'/content/datasets/{i}/'), (None, None, []))[2]\n",
        "    for j in filenames:\n",
        "        try:\n",
        "            path = f\"/content/datasets/{i}/{j}\"\n",
        "            img_array = np.fromfile(path, np.uint8)\n",
        "            img = cv2.imdecode(img_array, cv2.IMREAD_COLOR)\n",
        "            label = DeepFace.analyze(img,actions=['emotion'])['dominant_emotion']\n",
        "            if label==i : correct+=1\n",
        "            total+=1\n",
        "        except:\n",
        "            continue\n",
        "    print(i)\n",
        "\n",
        "print((correct*100)/total)"
      ],
      "metadata": {
        "id": "Wa6YDjacKLHp",
        "colab": {
          "base_uri": "https://localhost:8080/"
        },
        "outputId": "cefe883f-91d8-49da-8325-ea2c5b2cec86"
      },
      "execution_count": null,
      "outputs": [
        {
          "output_type": "stream",
          "name": "stdout",
          "text": [
            "facial_expression_model_weights.h5 will be downloaded...\n"
          ]
        },
        {
          "output_type": "stream",
          "name": "stderr",
          "text": [
            "Downloading...\n",
            "From: https://github.com/serengil/deepface_models/releases/download/v1.0/facial_expression_model_weights.h5\n",
            "To: /root/.deepface/weights/facial_expression_model_weights.h5\n",
            "100%|██████████| 5.98M/5.98M [00:00<00:00, 91.5MB/s]\n"
          ]
        },
        {
          "output_type": "stream",
          "name": "stdout",
          "text": [
            "neutral\n",
            "happy\n",
            "sad\n",
            "surprise\n",
            "anger\n",
            "fear\n",
            "28.953771289537713\n"
          ]
        }
      ]
    },
    {
      "cell_type": "markdown",
      "source": [
        "# 2. DAN"
      ],
      "metadata": {
        "id": "QILsWQbCKTUz"
      }
    },
    {
      "cell_type": "code",
      "source": [
        "import sys\n",
        "sys.path.append('/content/drive/Shareddrives/RAI/models/DAN/networks/')\n",
        "from dan import DAN\n",
        "\n",
        "import os\n",
        "import argparse\n",
        "from os import walk\n",
        "\n",
        "from PIL import Image\n",
        "\n",
        "import torch\n",
        "from torchvision import transforms"
      ],
      "metadata": {
        "id": "nkrzrAGqTPvN"
      },
      "execution_count": null,
      "outputs": []
    },
    {
      "cell_type": "code",
      "source": [
        "class Model():\n",
        "    def __init__(self):\n",
        "        self.device = torch.device(\"cuda:0\" if torch.cuda.is_available() else \"cpu\")\n",
        "        self.data_transforms = transforms.Compose([\n",
        "                                    transforms.Resize((224, 224)),\n",
        "                                    transforms.ToTensor(),\n",
        "                                    transforms.Normalize(mean=[0.485, 0.456, 0.406],\n",
        "                                    std=[0.229, 0.224, 0.225])\n",
        "                                ])\n",
        "        self.labels = ['neutral', 'happy', 'sad', 'surprise', 'fear', 'disgust', 'anger']\n",
        "\n",
        "        self.model = DAN(num_head=4, num_class=7, pretrained=False)\n",
        "        checkpoint = torch.load('/content/drive/Shareddrives/RAI/models/DAN/affecnet7_epoch6_acc0.6569.pth',\n",
        "            map_location=self.device)\n",
        "        self.model.load_state_dict(checkpoint['model_state_dict'],strict=True)\n",
        "        self.model.to(self.device)\n",
        "        self.model.eval()\n",
        "    \n",
        "    def fit(self, path):\n",
        "        img = Image.open(path).convert('RGB')\n",
        "        img = self.data_transforms(img)\n",
        "        img = img.view(1,3,224,224)\n",
        "        img = img.to(self.device)\n",
        "\n",
        "        with torch.set_grad_enabled(False):\n",
        "            out, _, _ = self.model(img)\n",
        "            _, pred = torch.max(out,1)\n",
        "            index = int(pred)\n",
        "            label = self.labels[index]\n",
        "\n",
        "            return index, label"
      ],
      "metadata": {
        "id": "2JU2xPMoKXvc"
      },
      "execution_count": null,
      "outputs": []
    },
    {
      "cell_type": "code",
      "source": [
        "model = Model()\n",
        "\n",
        "emo = ['neutral', 'happy', 'sad', 'surprise', 'anger', 'fear']\n",
        "total=0\n",
        "correct=0\n",
        "for i in emo:\n",
        "  filenames = next(walk(f'/content/datasets/{i}/'), (None, None, []))[2]\n",
        "  for j in filenames:\n",
        "      image = f\"./datasets/{i}/{j}\"\n",
        "\n",
        "      index, label = model.fit(image)\n",
        "      if label==i : correct+=1\n",
        "      total+=1\n",
        "\n",
        "print((correct*100)/total)"
      ],
      "metadata": {
        "colab": {
          "base_uri": "https://localhost:8080/"
        },
        "id": "w_e_WgGIWmdo",
        "outputId": "c7fec64f-285d-47e0-d1a5-f0cfd579bb17"
      },
      "execution_count": null,
      "outputs": [
        {
          "output_type": "stream",
          "name": "stdout",
          "text": [
            "19.53757225433526\n"
          ]
        }
      ]
    },
    {
      "cell_type": "markdown",
      "source": [
        "# CNN"
      ],
      "metadata": {
        "id": "t5BX9pq6OK8G"
      }
    },
    {
      "cell_type": "code",
      "source": [
        "!pip install fer"
      ],
      "metadata": {
        "id": "9xqRnd19OOsW"
      },
      "execution_count": null,
      "outputs": []
    },
    {
      "cell_type": "code",
      "source": [
        "from fer import FER\n",
        "import cv2\n",
        "from os import walk\n",
        "import numpy as np"
      ],
      "metadata": {
        "id": "HbfpbhenPcsr"
      },
      "execution_count": null,
      "outputs": []
    },
    {
      "cell_type": "code",
      "source": [
        "emo = ['neutral', 'happy', 'sad', 'surprise', 'anger', 'fear']\n",
        "total=0\n",
        "correct=0\n",
        "detector = FER()\n",
        "for i in emo:\n",
        "    filenames = next(walk(f'./datasets/{i}/'), (None, None, []))[2]\n",
        "    for j in filenames:\n",
        "        path = f\"./datasets/{i}/{j}\"\n",
        "        img_array = np.fromfile(path, np.uint8)\n",
        "        img = cv2.imdecode(img_array, cv2.IMREAD_COLOR)\n",
        "        label, score = detector.top_emotion(img)\n",
        "        if label==i : correct+=1\n",
        "        total+=1\n",
        "    print(i)\n",
        "\n",
        "print((correct*100)/total)"
      ],
      "metadata": {
        "colab": {
          "base_uri": "https://localhost:8080/"
        },
        "id": "1soE4rjGPYxH",
        "outputId": "f3977c81-beba-4026-b017-256a8b76733f"
      },
      "execution_count": null,
      "outputs": [
        {
          "output_type": "stream",
          "name": "stdout",
          "text": [
            "neutral\n",
            "happy\n",
            "sad\n",
            "surprise\n",
            "anger\n",
            "fear\n",
            "38.03468208092485\n"
          ]
        }
      ]
    }
  ]
}